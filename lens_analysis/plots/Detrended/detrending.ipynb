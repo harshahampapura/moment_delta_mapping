{
 "cells": [
  {
   "cell_type": "markdown",
   "id": "359a540e-e494-44da-9fb3-4c6ee3e4e36d",
   "metadata": {},
   "source": [
    "# Detrend model data"
   ]
  },
  {
   "cell_type": "code",
   "execution_count": 1,
   "id": "18538c8f-e1cd-409d-93aa-57680852503e",
   "metadata": {},
   "outputs": [],
   "source": [
    "import numpy as np\n",
    "import xarray as xr\n",
    "from distributed import Client\n",
    "import dask_jobqueue\n",
    "import matplotlib.pyplot as plt\n",
    "import matplotlib as mtplt\n",
    "import glob\n",
    "# import netCDF4 as nc\n",
    "import zarr\n",
    "import nc_time_axis\n",
    "#import xskillscore as xs\n",
    "import cartopy as cart\n",
    "#np.set_printoptions(threshold=np.inf)\n",
    "import matplotlib.colors as mcolors\n",
    "import matplotlib.cm as cm\n",
    "from datetime import datetime, timedelta\n",
    "import pandas as pd"
   ]
  },
  {
   "cell_type": "code",
   "execution_count": 2,
   "id": "7c2caf42-9357-4138-b03c-d857080b44e6",
   "metadata": {},
   "outputs": [],
   "source": [
    "chic_lat  = 41.8781\n",
    "chic_lon  = (360-87.6298)%360\n",
    "ben_lat   = 12.9716\n",
    "ben_lon   = 77.5946\n",
    "########## CONUS ############\n",
    "#CONUS lat-lon\n",
    "top       = 50.0 # north lat\n",
    "left      = -124.7844079+360 # west long\n",
    "right     = -66.9513812+360 # east long\n",
    "bottom    =  24.7433195 # south lat\n",
    "################################\n",
    "cesm2_path        = '/global/scratch/users/harsha/LENS/cesm2/tasmax/'\n",
    "cvals             = '/global/scratch/users/harsha/LENS/cesm2/cvals/detrended/'\n",
    "cmip6_cvals       = cvals + 'cmip6/'\n",
    "############\n",
    "pi_year  = 1865\n",
    "eoc_year = 2086\n",
    "#\n",
    "doy  = 211\n",
    "#############################\n",
    "def no_leap_date(day_of_year):\n",
    "    # Start from the first day of a non-leap year\n",
    "    start_date = datetime(2021, 1, 1)\n",
    "\n",
    "    # Calculate the actual date (subtract 1 because January 1st is day 1)\n",
    "    actual_date = start_date + timedelta(days=day_of_year - 1)\n",
    "\n",
    "    # Format the date to get 'Month Day'\n",
    "    return actual_date.strftime('%B %d')\n",
    "###############################\n",
    "date = no_leap_date(doy)"
   ]
  },
  {
   "cell_type": "code",
   "execution_count": 3,
   "id": "aacc2e89-2fb8-4476-b285-80b1943a37f2",
   "metadata": {},
   "outputs": [],
   "source": [
    "def to_daily(ds):\n",
    "    year       = ds.time.dt.year\n",
    "    dayofyear  = ds.time.dt.dayofyear\n",
    "\n",
    "    # assign new coords\n",
    "    ds = ds.assign_coords(year=(\"time\", year.data), dayofyear=(\"time\", dayofyear.data))\n",
    "\n",
    "    # reshape the array to (..., \"day\", \"year\")\n",
    "    return ds.set_index(time=(\"year\", \"dayofyear\")).unstack(\"time\") "
   ]
  },
  {
   "cell_type": "code",
   "execution_count": 4,
   "id": "719bbdd4-c453-4091-a66d-22276d964f46",
   "metadata": {},
   "outputs": [],
   "source": [
    "def detrend_all(ds, central_year):\n",
    "    # Assumes that the ds has coordinates day, year and member.\n",
    "    \n",
    "    #Fit a linear fuction and extract slope\n",
    "    pcoeffs = ds.mean('member').polyfit(dim='year',deg=1)\n",
    "    slope   = pcoeffs.polyfit_coefficients.sel(degree=1)\n",
    "    \n",
    "    #Calculate trend\n",
    "    ds_trend   = slope*(ds['year']- central_year)\n",
    "    \n",
    "    #Detrend by subtracting the trend from the data\n",
    "    ds_detrended = ds  - ds_trend\n",
    "    \n",
    "    return ds_detrended"
   ]
  },
  {
   "cell_type": "code",
   "execution_count": 5,
   "id": "89f8386c-f907-4d7b-8c88-a4fb78eae66b",
   "metadata": {},
   "outputs": [],
   "source": [
    "def implement_mdm(ds_obs,init_mean,final_mean,init_std,final_std):\n",
    "    # Assuming coordinates year and day for ds_obs\n",
    "    obs_mean = ds_obs.mean('year')\n",
    "    sratio   = final_std/init_std\n",
    "    ds_mdm   = obs_mean + (final_mean - init_mean) + sratio*(ds_obs - obs_mean)        \n",
    "    return ds_mdm\n",
    "\n",
    "def implement_qdm(qobs, qinit, qfinal):\n",
    "    # Implement quantile delta mapping. Assumes model data has corrd called 'mtime'\n",
    "    #qinit    = init_data.quantile(quants,dim='mtime')\n",
    "    #qfinal   = final_data.quantile(quants,dim='mtime')\n",
    "    ds_qdm   = qobs + (qfinal - qinit)\n",
    "    return ds_qdm\n",
    "\n",
    "def is_sorted(arr):\n",
    "    return np.all(arr[:-1] <= arr[1:]) or np.all(arr[:-1] >= arr[1:])\n",
    "\n",
    "#\n",
    "quants = np.linspace(0,1.0,30)\n",
    "def compute_quantiles(ds, quantiles=quants):\n",
    "    return ds.chunk(dict(year=-1)).quantile(quantiles, dim='year',skipna=False)"
   ]
  },
  {
   "cell_type": "code",
   "execution_count": 6,
   "id": "14fc0221-0937-42da-bc75-15698af2d326",
   "metadata": {},
   "outputs": [],
   "source": [
    "job_extra = ['--qos=cf_lowprio','--account=ac_cumulus'] \n",
    "#job_extra =['--qos=lr6_lowprio','--account=ac_cumulus','--constraint=lr6_m192']\n",
    "#job_extra =['--qos=condo_cumulus_lr6','--account=lr_cumulus','--constraint=lr6_m192']\n",
    "#job_extra =['--qos=lr_lowprio','--account=ac_cumulus']\n",
    "cluster = dask_jobqueue.SLURMCluster(queue=\"cf1\", cores=10, walltime='5:00:00', \n",
    "                local_directory='/global/scratch/users/harsha/dask_space/', \n",
    "                log_directory='/global/scratch/users/harsha/dask_space/', \n",
    "                job_extra_directives=job_extra, interface='eth0', memory=\"192GB\") \n",
    "client  = Client(cluster) \n",
    "cluster.scale_up(5)"
   ]
  },
  {
   "cell_type": "code",
   "execution_count": 7,
   "id": "e5a15f45-4117-4acc-a60d-994c2e2d1d70",
   "metadata": {},
   "outputs": [],
   "source": [
    "pi_year0  = '1850'\n",
    "pi_year1  = '1879'\n",
    "ic_year0  = '2071'\n",
    "ic_year1  = '2100'\n",
    "pi_year   = 1865\n",
    "eoc_year  = 2071\n",
    "doy       = 211 # day_of_year\n",
    "date      = 'Jul30'"
   ]
  },
  {
   "cell_type": "code",
   "execution_count": 8,
   "id": "b3a12b4e-9e45-4fdd-9b4c-4a23f435d8a5",
   "metadata": {},
   "outputs": [
    {
     "data": {
      "application/vnd.jupyter.widget-view+json": {
       "model_id": "02f20c4d30274167adca3baecfd04519",
       "version_major": 2,
       "version_minor": 0
      },
      "text/html": [
       "<div class=\"jp-RenderedHTMLCommon jp-RenderedHTML jp-mod-trusted jp-OutputArea-output\">\n",
       "    <div style=\"width: 24px; height: 24px; background-color: #e1e1e1; border: 3px solid #9D9D9D; border-radius: 5px; position: absolute;\">\n",
       "    </div>\n",
       "    <div style=\"margin-left: 48px;\">\n",
       "        <h3 style=\"margin-bottom: 0px; margin-top: 0px;\">SLURMCluster</h3>\n",
       "        <p style=\"color: #9D9D9D; margin-bottom: 0px;\">70346413</p>\n",
       "        <table style=\"width: 100%; text-align: left;\">\n",
       "            <tr>\n",
       "                <td style=\"text-align: left;\">\n",
       "                    <strong>Dashboard:</strong> <a href=\"http://10.0.2.2:8787/status\" target=\"_blank\">http://10.0.2.2:8787/status</a>\n",
       "                </td>\n",
       "                <td style=\"text-align: left;\">\n",
       "                    <strong>Workers:</strong> 0\n",
       "                </td>\n",
       "            </tr>\n",
       "            <tr>\n",
       "                <td style=\"text-align: left;\">\n",
       "                    <strong>Total threads:</strong> 0\n",
       "                </td>\n",
       "                <td style=\"text-align: left;\">\n",
       "                    <strong>Total memory:</strong> 0 B\n",
       "                </td>\n",
       "            </tr>\n",
       "            \n",
       "        </table>\n",
       "\n",
       "        <details>\n",
       "            <summary style=\"margin-bottom: 20px;\">\n",
       "                <h3 style=\"display: inline;\">Scheduler Info</h3>\n",
       "            </summary>\n",
       "\n",
       "            <div style=\"\">\n",
       "    <div>\n",
       "        <div style=\"width: 24px; height: 24px; background-color: #FFF7E5; border: 3px solid #FF6132; border-radius: 5px; position: absolute;\"> </div>\n",
       "        <div style=\"margin-left: 48px;\">\n",
       "            <h3 style=\"margin-bottom: 0px;\">Scheduler</h3>\n",
       "            <p style=\"color: #9D9D9D; margin-bottom: 0px;\">Scheduler-d654a1f1-c9c9-4e23-81b7-913f6b2b6e83</p>\n",
       "            <table style=\"width: 100%; text-align: left;\">\n",
       "                <tr>\n",
       "                    <td style=\"text-align: left;\">\n",
       "                        <strong>Comm:</strong> tcp://10.0.2.2:36231\n",
       "                    </td>\n",
       "                    <td style=\"text-align: left;\">\n",
       "                        <strong>Workers:</strong> 0\n",
       "                    </td>\n",
       "                </tr>\n",
       "                <tr>\n",
       "                    <td style=\"text-align: left;\">\n",
       "                        <strong>Dashboard:</strong> <a href=\"http://10.0.2.2:8787/status\" target=\"_blank\">http://10.0.2.2:8787/status</a>\n",
       "                    </td>\n",
       "                    <td style=\"text-align: left;\">\n",
       "                        <strong>Total threads:</strong> 0\n",
       "                    </td>\n",
       "                </tr>\n",
       "                <tr>\n",
       "                    <td style=\"text-align: left;\">\n",
       "                        <strong>Started:</strong> Just now\n",
       "                    </td>\n",
       "                    <td style=\"text-align: left;\">\n",
       "                        <strong>Total memory:</strong> 0 B\n",
       "                    </td>\n",
       "                </tr>\n",
       "            </table>\n",
       "        </div>\n",
       "    </div>\n",
       "\n",
       "    <details style=\"margin-left: 48px;\">\n",
       "        <summary style=\"margin-bottom: 20px;\">\n",
       "            <h3 style=\"display: inline;\">Workers</h3>\n",
       "        </summary>\n",
       "\n",
       "        \n",
       "\n",
       "    </details>\n",
       "</div>\n",
       "\n",
       "        </details>\n",
       "    </div>\n",
       "</div>"
      ],
      "text/plain": [
       "SLURMCluster(70346413, 'tcp://10.0.2.2:36231', workers=0, threads=0, memory=0 B)"
      ]
     },
     "metadata": {},
     "output_type": "display_data"
    }
   ],
   "source": [
    "cluster"
   ]
  },
  {
   "cell_type": "markdown",
   "id": "7d769aab-2095-401e-b421-2798bd200d2d",
   "metadata": {},
   "source": [
    "## Load CESM data"
   ]
  },
  {
   "cell_type": "code",
   "execution_count": 9,
   "id": "fd22e57d-9924-41b3-acc0-7ce4e92988f3",
   "metadata": {},
   "outputs": [
    {
     "name": "stderr",
     "output_type": "stream",
     "text": [
      "/global/home/users/harsha/miniconda3/envs/pyenv/lib/python3.9/site-packages/scipy/__init__.py:146: UserWarning: A NumPy version >=1.16.5 and <1.23.0 is required for this version of SciPy (detected version 1.23.5\n",
      "  warnings.warn(f\"A NumPy version >={np_minversion} and <{np_maxversion}\"\n"
     ]
    },
    {
     "name": "stdout",
     "output_type": "stream",
     "text": [
      "CPU times: user 2.41 s, sys: 567 ms, total: 2.97 s\n",
      "Wall time: 3.24 s\n"
     ]
    }
   ],
   "source": [
    "%%time\n",
    "ds_ssp  = xr.open_mfdataset(cesm2_path+'ssp370_cesm2tmax.zarr',engine='zarr')\n",
    "ds_hist = xr.open_mfdataset(cesm2_path+'bhist_cesm2tmax.zarr',engine='zarr')"
   ]
  },
  {
   "cell_type": "code",
   "execution_count": 10,
   "id": "00a68187-639a-4ff2-8825-9cfd34c858f2",
   "metadata": {},
   "outputs": [
    {
     "name": "stdout",
     "output_type": "stream",
     "text": [
      "CPU times: user 377 ms, sys: 6.9 ms, total: 383 ms\n",
      "Wall time: 370 ms\n"
     ]
    }
   ],
   "source": [
    "%%time\n",
    "#t-temp, nw - no-warming, w-warming, hw = historical warming, g=global\n",
    "tgpi   = ds_hist.TREFHTMX.sel(method='nearest').sel(time=slice(pi_year0,pi_year1))\n",
    "tgeoc  = ds_ssp.TREFHTMX.sel(method='nearest').sel(time=slice(ic_year0,ic_year1))"
   ]
  },
  {
   "cell_type": "code",
   "execution_count": 11,
   "id": "5a16dd3a-1ff5-4162-babf-56502511c687",
   "metadata": {},
   "outputs": [
    {
     "name": "stderr",
     "output_type": "stream",
     "text": [
      "/global/home/users/harsha/miniconda3/envs/pyenv/lib/python3.9/site-packages/xarray/core/dataset.py:4880: PerformanceWarning: Reshaping is producing a large chunk. To accept the large\n",
      "chunk and silence this warning, set the option\n",
      "    >>> with dask.config.set(**{'array.slicing.split_large_chunks': False}):\n",
      "    ...     array.reshape(shape)\n",
      "\n",
      "To avoid creating the large chunks, set the option\n",
      "    >>> with dask.config.set(**{'array.slicing.split_large_chunks': True}):\n",
      "    ...     array.reshape(shape)Explictly passing ``limit`` to ``reshape`` will also silence this warning\n",
      "    >>> array.reshape(shape, limit='128 MiB')\n",
      "  result = result._unstack_full_reindex(\n",
      "/global/home/users/harsha/miniconda3/envs/pyenv/lib/python3.9/site-packages/xarray/core/dataset.py:4880: PerformanceWarning: Reshaping is producing a large chunk. To accept the large\n",
      "chunk and silence this warning, set the option\n",
      "    >>> with dask.config.set(**{'array.slicing.split_large_chunks': False}):\n",
      "    ...     array.reshape(shape)\n",
      "\n",
      "To avoid creating the large chunks, set the option\n",
      "    >>> with dask.config.set(**{'array.slicing.split_large_chunks': True}):\n",
      "    ...     array.reshape(shape)Explictly passing ``limit`` to ``reshape`` will also silence this warning\n",
      "    >>> array.reshape(shape, limit='128 MiB')\n",
      "  result = result._unstack_full_reindex(\n"
     ]
    }
   ],
   "source": [
    "tgpi   = tgpi.chunk({'member':100,'lat':40,'lon':60})\n",
    "tgeoc  = tgeoc.chunk({'member':100,'lat':40,'lon':60})\n",
    "tdgpi  = to_daily(tgpi)\n",
    "tdgeoc = to_daily(tgeoc)"
   ]
  },
  {
   "cell_type": "markdown",
   "id": "74c32170-371f-4a5a-a23a-28079c1d9f8a",
   "metadata": {},
   "source": [
    "## Detrend data"
   ]
  },
  {
   "cell_type": "code",
   "execution_count": null,
   "id": "e09617af-8acd-4620-815d-6f4dd2a39f4b",
   "metadata": {},
   "outputs": [],
   "source": [
    "%%time\n",
    "for start_day in range(1, 366, 90):  # Loop through days, 90 at a time\n",
    "    end_day = min(start_day + 90, 365)  # Ensure we don't go beyond the last day\n",
    "    \n",
    "    # Select the subset of data for the current range of days\n",
    "    tdgpi_subset = tdgpi.sel(dayofyear=slice(start_day, end_day))\n",
    "    \n",
    "    # Apply the detrending function\n",
    "    tdgpi_detrended = detrend_all(tdgpi_subset, pi_year)\n",
    "    \n",
    "    # Define the filename based on the current day range\n",
    "    filename = f'pi_detrended_data_days_{start_day}_{end_day}.zarr'\n",
    "    \n",
    "    # Write the detrended subset to a Zarr file\n",
    "    tdgpi_detrended = tdgpi_detrended.chunk({'lat':8})\n",
    "    tdgpi_detrended.rename('detrended_tmax').to_dataset().to_zarr(cvals+filename, mode='w')\n",
    "    print('Dataset saved')\n",
    "print(\"All subsets processed and saved.\")"
   ]
  },
  {
   "cell_type": "code",
   "execution_count": null,
   "id": "d04fd38c-1711-40ce-84f5-df45df7342c3",
   "metadata": {},
   "outputs": [],
   "source": [
    "# Construct the file pattern to match all relevant Zarr files\n",
    "file_pattern = cvals+ f'/pi_detrended_data_days_*.zarr'\n",
    "\n",
    "# List all matching Zarr file directories\n",
    "zarr_files = glob.glob(file_pattern)\n",
    "\n",
    "# Open and concatenate the Zarr files along the 'dayofyear' dimension\n",
    "# Note: Adjust open_mfdataset parameters as needed for your specific case\n",
    "tdgpi_detrended = xr.open_mfdataset(zarr_files, concat_dim='dayofyear', combine='nested')\n",
    "tdgpi_detrended"
   ]
  },
  {
   "cell_type": "markdown",
   "id": "d88f80a2-c362-4251-baab-be935a5b98b1",
   "metadata": {},
   "source": [
    "#### EOC data"
   ]
  },
  {
   "cell_type": "code",
   "execution_count": null,
   "id": "e4ffdf08-c816-4e37-b61f-b90b21f6e85f",
   "metadata": {},
   "outputs": [],
   "source": [
    "%%time\n",
    "for start_day in range(1, 366, 90):  # Loop through days, 90 at a time\n",
    "    end_day = min(start_day + 90, 365)  # Ensure we don't go beyond the last day\n",
    "    \n",
    "    # Select the subset of data for the current range of days\n",
    "    tdgeoc_subset = tdgeoc.sel(dayofyear=slice(start_day, end_day))\n",
    "    \n",
    "    # Apply the detrending function\n",
    "    tdgeoc_detrended = detrend_all(tdgeoc_subset, pi_year)\n",
    "    \n",
    "    # Define the filename based on the current day range\n",
    "    filename = f'eoc_detrended_data_days_{start_day}_{end_day}.zarr'\n",
    "    \n",
    "    # Write the detrended subset to a Zarr file\n",
    "    tdgeoc_detrended = tdgeoc_detrended.chunk({'lat':8})\n",
    "    tdgeoc_detrended.rename('detrended_tmax').to_dataset().to_zarr(cvals+filename, mode='w')\n",
    "    print('Dataset saved')\n",
    "print(\"All subsets processed and saved.\")"
   ]
  },
  {
   "cell_type": "code",
   "execution_count": null,
   "id": "49e6a77c-4726-4e32-b73e-ead99a7ee231",
   "metadata": {},
   "outputs": [],
   "source": [
    "# Construct the file pattern to match all relevant Zarr files\n",
    "file_pattern = cvals+ f'/eoc_detrended_data_days_*.zarr'\n",
    "\n",
    "# List all matching Zarr file directories\n",
    "zarr_files = glob.glob(file_pattern)\n",
    "\n",
    "# Open and concatenate the Zarr files along the 'dayofyear' dimension\n",
    "# Note: Adjust open_mfdataset parameters as needed for your specific case\n",
    "tdgeoc_detrended = xr.open_mfdataset(zarr_files, concat_dim='dayofyear', combine='nested')\n",
    "tdgeoc_detrended"
   ]
  }
 ],
 "metadata": {
  "kernelspec": {
   "display_name": "pyenv",
   "language": "python",
   "name": "pyenv"
  },
  "language_info": {
   "codemirror_mode": {
    "name": "ipython",
    "version": 3
   },
   "file_extension": ".py",
   "mimetype": "text/x-python",
   "name": "python",
   "nbconvert_exporter": "python",
   "pygments_lexer": "ipython3",
   "version": "3.9.17"
  }
 },
 "nbformat": 4,
 "nbformat_minor": 5
}
