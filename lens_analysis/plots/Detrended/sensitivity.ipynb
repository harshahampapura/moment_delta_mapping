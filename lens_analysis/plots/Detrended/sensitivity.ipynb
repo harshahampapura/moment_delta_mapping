{
 "cells": [
  {
   "cell_type": "markdown",
   "id": "c87ea67a",
   "metadata": {},
   "source": [
    "# Test the sensitivity of MDM to varying amount of data"
   ]
  },
  {
   "cell_type": "code",
   "execution_count": 1,
   "id": "b4d9a9c9",
   "metadata": {},
   "outputs": [],
   "source": [
    "import numpy as np\n",
    "import xarray as xr\n",
    "from distributed import Client\n",
    "import dask_jobqueue\n",
    "import matplotlib.pyplot as plt\n",
    "import matplotlib as mtplt\n",
    "import glob\n",
    "# import netCDF4 as nc\n",
    "import zarr\n",
    "import nc_time_axis\n",
    "#import xskillscore as xs\n",
    "import cartopy as cart\n",
    "#np.set_printoptions(threshold=np.inf)\n",
    "import matplotlib.colors as mcolors\n",
    "import matplotlib.cm as cm\n",
    "from datetime import datetime, timedelta\n",
    "import pandas as pd"
   ]
  },
  {
   "cell_type": "code",
   "execution_count": 1,
   "id": "29fcef33",
   "metadata": {},
   "outputs": [
    {
     "ename": "NameError",
     "evalue": "name 'datetime' is not defined",
     "output_type": "error",
     "traceback": [
      "\u001b[0;31m---------------------------------------------------------------------------\u001b[0m",
      "\u001b[0;31mNameError\u001b[0m                                 Traceback (most recent call last)",
      "Input \u001b[0;32mIn [1]\u001b[0m, in \u001b[0;36m<cell line: 31>\u001b[0;34m()\u001b[0m\n\u001b[1;32m     29\u001b[0m     \u001b[38;5;28;01mreturn\u001b[39;00m actual_date\u001b[38;5;241m.\u001b[39mstrftime(\u001b[38;5;124m'\u001b[39m\u001b[38;5;124m%\u001b[39m\u001b[38;5;124mB \u001b[39m\u001b[38;5;132;01m%d\u001b[39;00m\u001b[38;5;124m'\u001b[39m)\n\u001b[1;32m     30\u001b[0m \u001b[38;5;66;03m###############################\u001b[39;00m\n\u001b[0;32m---> 31\u001b[0m date \u001b[38;5;241m=\u001b[39m \u001b[43mno_leap_date\u001b[49m\u001b[43m(\u001b[49m\u001b[43mdoy\u001b[49m\u001b[43m)\u001b[49m\n",
      "Input \u001b[0;32mIn [1]\u001b[0m, in \u001b[0;36mno_leap_date\u001b[0;34m(day_of_year)\u001b[0m\n\u001b[1;32m     21\u001b[0m \u001b[38;5;28;01mdef\u001b[39;00m \u001b[38;5;21mno_leap_date\u001b[39m(day_of_year):\n\u001b[1;32m     22\u001b[0m     \u001b[38;5;66;03m# Start from the first day of a non-leap year\u001b[39;00m\n\u001b[0;32m---> 23\u001b[0m     start_date \u001b[38;5;241m=\u001b[39m \u001b[43mdatetime\u001b[49m(\u001b[38;5;241m2021\u001b[39m, \u001b[38;5;241m1\u001b[39m, \u001b[38;5;241m1\u001b[39m)\n\u001b[1;32m     25\u001b[0m     \u001b[38;5;66;03m# Calculate the actual date (subtract 1 because January 1st is day 1)\u001b[39;00m\n\u001b[1;32m     26\u001b[0m     actual_date \u001b[38;5;241m=\u001b[39m start_date \u001b[38;5;241m+\u001b[39m timedelta(days\u001b[38;5;241m=\u001b[39mday_of_year \u001b[38;5;241m-\u001b[39m \u001b[38;5;241m1\u001b[39m)\n",
      "\u001b[0;31mNameError\u001b[0m: name 'datetime' is not defined"
     ]
    }
   ],
   "source": [
    "chic_lat  = 41.8781\n",
    "chic_lon  = (360-87.6298)%360\n",
    "ben_lat   = 12.9716\n",
    "ben_lon   = 77.5946\n",
    "########## CONUS ############\n",
    "#CONUS lat-lon\n",
    "top       = 50.0 # north lat\n",
    "left      = -124.7844079+360 # west long\n",
    "right     = -66.9513812+360 # east long\n",
    "bottom    =  24.7433195 # south lat\n",
    "################################\n",
    "cesm2_path        = '/global/scratch/users/harsha/LENS/cesm2/tasmax/'\n",
    "cvals             = '/global/scratch/users/harsha/LENS/cesm2/cvals/detrended/'\n",
    "cmip6_cvals       = cvals + 'cmip6/'\n",
    "############\n",
    "pi_year  = 1865\n",
    "eoc_year = 2086\n",
    "#\n",
    "doy  = 211\n",
    "#############################\n",
    "def no_leap_date(day_of_year):\n",
    "    # Start from the first day of a non-leap year\n",
    "    start_date = datetime(2021, 1, 1)\n",
    "\n",
    "    # Calculate the actual date (subtract 1 because January 1st is day 1)\n",
    "    actual_date = start_date + timedelta(days=day_of_year - 1)\n",
    "\n",
    "    # Format the date to get 'Month Day'\n",
    "    return actual_date.strftime('%B %d')\n",
    "###############################\n",
    "date = no_leap_date(doy)"
   ]
  },
  {
   "cell_type": "code",
   "execution_count": null,
   "id": "e4c411a0-3f9c-456f-ab01-007431ec2293",
   "metadata": {},
   "outputs": [],
   "source": []
  }
 ],
 "metadata": {
  "kernelspec": {
   "display_name": "pyenv",
   "language": "python",
   "name": "pyenv"
  },
  "language_info": {
   "codemirror_mode": {
    "name": "ipython",
    "version": 3
   },
   "file_extension": ".py",
   "mimetype": "text/x-python",
   "name": "python",
   "nbconvert_exporter": "python",
   "pygments_lexer": "ipython3",
   "version": "3.9.17"
  }
 },
 "nbformat": 4,
 "nbformat_minor": 5
}
