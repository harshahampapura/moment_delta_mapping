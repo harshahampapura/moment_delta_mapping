{
 "cells": [
  {
   "cell_type": "markdown",
   "id": "c87ea67a",
   "metadata": {},
   "source": [
    "# Test the sensitivity of MDM to varying amount of data"
   ]
  },
  {
   "cell_type": "code",
   "execution_count": 1,
   "id": "b4d9a9c9",
   "metadata": {},
   "outputs": [],
   "source": [
    "import numpy as np\n",
    "import xarray as xr\n",
    "from distributed import Client\n",
    "import dask_jobqueue\n",
    "import matplotlib.pyplot as plt\n",
    "import matplotlib as mtplt\n",
    "import glob\n",
    "# import netCDF4 as nc\n",
    "import zarr\n",
    "import nc_time_axis\n",
    "#import xskillscore as xs\n",
    "import cartopy as cart\n",
    "#np.set_printoptions(threshold=np.inf)\n",
    "import matplotlib.colors as mcolors\n",
    "import matplotlib.cm as cm\n",
    "from datetime import datetime, timedelta\n",
    "import pandas as pd"
   ]
  },
  {
   "cell_type": "code",
   "execution_count": null,
   "id": "29fcef33",
   "metadata": {},
   "outputs": [],
   "source": []
  }
 ],
 "metadata": {
  "kernelspec": {
   "display_name": "pyenv",
   "language": "python",
   "name": "pyenv"
  },
  "language_info": {
   "codemirror_mode": {
    "name": "ipython",
    "version": 3
   },
   "file_extension": ".py",
   "mimetype": "text/x-python",
   "name": "python",
   "nbconvert_exporter": "python",
   "pygments_lexer": "ipython3",
   "version": "3.9.17"
  }
 },
 "nbformat": 4,
 "nbformat_minor": 5
}
