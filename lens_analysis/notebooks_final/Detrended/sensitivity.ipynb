{
 "cells": [
  {
   "cell_type": "markdown",
   "id": "1dbf6fb9",
   "metadata": {},
   "source": [
    "# Test the sensitivity of MDM to varying amount of data"
   ]
  },
  {
   "cell_type": "code",
   "execution_count": 1,
   "id": "d39cf573",
   "metadata": {},
   "outputs": [],
   "source": [
    "import numpy as np\n",
    "import xarray as xr\n",
    "from distributed import Client\n",
    "import dask_jobqueue\n",
    "import matplotlib.pyplot as plt\n",
    "import matplotlib as mtplt\n",
    "import glob\n",
    "# import netCDF4 as nc\n",
    "import zarr\n",
    "import nc_time_axis\n",
    "#import xskillscore as xs\n",
    "import cartopy as cart\n",
    "#np.set_printoptions(threshold=np.inf)\n",
    "import matplotlib.colors as mcolors\n",
    "import matplotlib.cm as cm\n",
    "from datetime import datetime, timedelta\n",
    "import pandas as pd"
   ]
  },
  {
   "cell_type": "code",
   "execution_count": 4,
   "id": "504e1ed5",
   "metadata": {},
   "outputs": [
    {
     "data": {
      "text/plain": [
       "'July 30'"
      ]
     },
     "execution_count": 4,
     "metadata": {},
     "output_type": "execute_result"
    }
   ],
   "source": [
    "chic_lat  = 41.8781\n",
    "chic_lon  = (360-87.6298)%360\n",
    "ben_lat   = 12.9716\n",
    "ben_lon   = 77.5946\n",
    "########## CONUS ############\n",
    "#CONUS lat-lon\n",
    "top       = 50.0 # north lat\n",
    "left      = -124.7844079+360 # west long\n",
    "right     = -66.9513812+360 # east long\n",
    "bottom    =  24.7433195 # south lat\n",
    "################################\n",
    "cesm2_path        = '/global/scratch/users/harsha/LENS/cesm2/tasmax/'\n",
    "cvals             = '/global/scratch/users/harsha/LENS/cesm2/cvals/detrended/'\n",
    "cmip6_cvals       = cvals + 'cmip6/'"
   ]
  },
  {
   "cell_type": "code",
   "execution_count": 5,
   "id": "77928fb1",
   "metadata": {},
   "outputs": [
    {
     "data": {
      "text/plain": [
       "'July 30'"
      ]
     },
     "execution_count": 5,
     "metadata": {},
     "output_type": "execute_result"
    }
   ],
   "source": [
    "############\n",
    "pi_year  = 1865\n",
    "eoc_year = 2086\n",
    "#\n",
    "doy  = 211\n",
    "#############################\n",
    "def no_leap_date(day_of_year):\n",
    "    # Start from the first day of a non-leap year\n",
    "    start_date = datetime(2021, 1, 1)\n",
    "\n",
    "    # Calculate the actual date (subtract 1 because January 1st is day 1)\n",
    "    actual_date = start_date + timedelta(days=day_of_year - 1)\n",
    "\n",
    "    # Format the date to get 'Month Day'\n",
    "    return actual_date.strftime('%B %d')\n",
    "###############################\n",
    "date = no_leap_date(doy)\n",
    "date"
   ]
  },
  {
   "cell_type": "code",
   "execution_count": 6,
   "id": "f6d08297",
   "metadata": {},
   "outputs": [],
   "source": [
    "def to_daily(ds):\n",
    "    year       = ds.time.dt.year\n",
    "    dayofyear  = ds.time.dt.dayofyear\n",
    "\n",
    "    # assign new coords\n",
    "    ds = ds.assign_coords(year=(\"time\", year.data), dayofyear=(\"time\", dayofyear.data))\n",
    "\n",
    "    # reshape the array to (..., \"day\", \"year\")\n",
    "    return ds.set_index(time=(\"year\", \"dayofyear\")).unstack(\"time\") "
   ]
  },
  {
   "cell_type": "code",
   "execution_count": 7,
   "id": "f34878f2",
   "metadata": {},
   "outputs": [],
   "source": [
    "def implement_mdm(ds_obs,init_mean,final_mean,init_std,final_std):\n",
    "    # Assuming coordinates year and day for ds_obs\n",
    "    obs_mean = ds_obs.mean('year')\n",
    "    sratio   = final_std/init_std\n",
    "    ds_mdm   = obs_mean + (final_mean - init_mean) + sratio*(ds_obs - obs_mean)        \n",
    "    return ds_mdm\n",
    "\n",
    "def implement_qdm(qobs, qinit, qfinal):\n",
    "    # Implement quantile delta mapping. Assumes model data has corrd called 'mtime'\n",
    "    #qinit    = init_data.quantile(quants,dim='mtime')\n",
    "    #qfinal   = final_data.quantile(quants,dim='mtime')\n",
    "    ds_qdm   = qobs + (qfinal - qinit)\n",
    "    return ds_qdm\n",
    "\n",
    "def is_sorted(arr):\n",
    "    return np.all(arr[:-1] <= arr[1:]) or np.all(arr[:-1] >= arr[1:])\n",
    "\n",
    "#\n",
    "quants = np.linspace(0,1.0,30)\n",
    "def compute_quantiles(ds, quantiles=quants):\n",
    "    return ds.chunk(dict(year=-1)).quantile(quantiles, dim='year',skipna=False)"
   ]
  },
  {
   "cell_type": "code",
   "execution_count": 8,
   "id": "52fbd120",
   "metadata": {},
   "outputs": [
    {
     "name": "stderr",
     "output_type": "stream",
     "text": [
      "/global/home/users/harsha/miniconda3/envs/pyenv/lib/python3.9/site-packages/distributed/node.py:182: UserWarning: Port 8787 is already in use.\n",
      "Perhaps you already have a cluster running?\n",
      "Hosting the HTTP server on port 42066 instead\n",
      "  warnings.warn(\n"
     ]
    }
   ],
   "source": [
    "job_extra = ['--qos=cf_lowprio','--account=ac_cumulus'] \n",
    "#job_extra =['--qos=lr6_lowprio','--account=ac_cumulus','--constraint=lr6_m192']\n",
    "#job_extra =['--qos=condo_cumulus_lr6','--account=lr_cumulus','--constraint=lr6_m192']\n",
    "#job_extra =['--qos=lr_lowprio','--account=ac_cumulus']\n",
    "cluster = dask_jobqueue.SLURMCluster(queue=\"cf1\", cores=10, walltime='5:00:00', \n",
    "                local_directory='/global/scratch/users/harsha/dask_space/', \n",
    "                log_directory='/global/scratch/users/harsha/dask_space/', \n",
    "                job_extra_directives=job_extra, interface='eth0', memory=\"192GB\") \n",
    "client  = Client(cluster) \n",
    "cluster.scale_up(2)"
   ]
  },
  {
   "cell_type": "code",
   "execution_count": 9,
   "id": "3b1a4286",
   "metadata": {},
   "outputs": [],
   "source": [
    "pi_year0  = '1850'\n",
    "pi_year1  = '1879'\n",
    "ic_year0  = '2071'\n",
    "ic_year1  = '2100'\n",
    "pi_year   = 1865\n",
    "eoc_year  = 2071\n",
    "doy       = 211 # day_of_year"
   ]
  },
  {
   "cell_type": "code",
   "execution_count": 10,
   "id": "1f68c53c",
   "metadata": {},
   "outputs": [
    {
     "data": {
      "application/vnd.jupyter.widget-view+json": {
       "model_id": "f0c3ee5e91404e72a91d9ada9b605cf8",
       "version_major": 2,
       "version_minor": 0
      },
      "text/html": [
       "<div class=\"jp-RenderedHTMLCommon jp-RenderedHTML jp-mod-trusted jp-OutputArea-output\">\n",
       "    <div style=\"width: 24px; height: 24px; background-color: #e1e1e1; border: 3px solid #9D9D9D; border-radius: 5px; position: absolute;\">\n",
       "    </div>\n",
       "    <div style=\"margin-left: 48px;\">\n",
       "        <h3 style=\"margin-bottom: 0px; margin-top: 0px;\">SLURMCluster</h3>\n",
       "        <p style=\"color: #9D9D9D; margin-bottom: 0px;\">88cf1d0f</p>\n",
       "        <table style=\"width: 100%; text-align: left;\">\n",
       "            <tr>\n",
       "                <td style=\"text-align: left;\">\n",
       "                    <strong>Dashboard:</strong> <a href=\"http://10.0.39.4:42066/status\" target=\"_blank\">http://10.0.39.4:42066/status</a>\n",
       "                </td>\n",
       "                <td style=\"text-align: left;\">\n",
       "                    <strong>Workers:</strong> 0\n",
       "                </td>\n",
       "            </tr>\n",
       "            <tr>\n",
       "                <td style=\"text-align: left;\">\n",
       "                    <strong>Total threads:</strong> 0\n",
       "                </td>\n",
       "                <td style=\"text-align: left;\">\n",
       "                    <strong>Total memory:</strong> 0 B\n",
       "                </td>\n",
       "            </tr>\n",
       "            \n",
       "        </table>\n",
       "\n",
       "        <details>\n",
       "            <summary style=\"margin-bottom: 20px;\">\n",
       "                <h3 style=\"display: inline;\">Scheduler Info</h3>\n",
       "            </summary>\n",
       "\n",
       "            <div style=\"\">\n",
       "    <div>\n",
       "        <div style=\"width: 24px; height: 24px; background-color: #FFF7E5; border: 3px solid #FF6132; border-radius: 5px; position: absolute;\"> </div>\n",
       "        <div style=\"margin-left: 48px;\">\n",
       "            <h3 style=\"margin-bottom: 0px;\">Scheduler</h3>\n",
       "            <p style=\"color: #9D9D9D; margin-bottom: 0px;\">Scheduler-af157770-1e9e-4552-9de3-770fc3a9e429</p>\n",
       "            <table style=\"width: 100%; text-align: left;\">\n",
       "                <tr>\n",
       "                    <td style=\"text-align: left;\">\n",
       "                        <strong>Comm:</strong> tcp://10.0.39.4:39337\n",
       "                    </td>\n",
       "                    <td style=\"text-align: left;\">\n",
       "                        <strong>Workers:</strong> 0\n",
       "                    </td>\n",
       "                </tr>\n",
       "                <tr>\n",
       "                    <td style=\"text-align: left;\">\n",
       "                        <strong>Dashboard:</strong> <a href=\"http://10.0.39.4:42066/status\" target=\"_blank\">http://10.0.39.4:42066/status</a>\n",
       "                    </td>\n",
       "                    <td style=\"text-align: left;\">\n",
       "                        <strong>Total threads:</strong> 0\n",
       "                    </td>\n",
       "                </tr>\n",
       "                <tr>\n",
       "                    <td style=\"text-align: left;\">\n",
       "                        <strong>Started:</strong> Just now\n",
       "                    </td>\n",
       "                    <td style=\"text-align: left;\">\n",
       "                        <strong>Total memory:</strong> 0 B\n",
       "                    </td>\n",
       "                </tr>\n",
       "            </table>\n",
       "        </div>\n",
       "    </div>\n",
       "\n",
       "    <details style=\"margin-left: 48px;\">\n",
       "        <summary style=\"margin-bottom: 20px;\">\n",
       "            <h3 style=\"display: inline;\">Workers</h3>\n",
       "        </summary>\n",
       "\n",
       "        \n",
       "\n",
       "    </details>\n",
       "</div>\n",
       "\n",
       "        </details>\n",
       "    </div>\n",
       "</div>"
      ],
      "text/plain": [
       "SLURMCluster(88cf1d0f, 'tcp://10.0.39.4:39337', workers=0, threads=0, memory=0 B)"
      ]
     },
     "metadata": {},
     "output_type": "display_data"
    }
   ],
   "source": [
    "cluster"
   ]
  },
  {
   "cell_type": "markdown",
   "id": "37f32b9e",
   "metadata": {},
   "source": [
    "### Load CESM2 data"
   ]
  },
  {
   "cell_type": "code",
   "execution_count": null,
   "id": "fde8d5c6",
   "metadata": {},
   "outputs": [],
   "source": [
    "%%time\n",
    "ds_ssp  = xr.open_mfdataset(cesm2_path+'ssp370_cesm2tmax.zarr',engine='zarr')\n",
    "ds_hist = xr.open_mfdataset(cesm2_path+'bhist_cesm2tmax.zarr',engine='zarr')\n",
    "#\n",
    "#t-temp, nw - no-warming, w-warming, hw = historical warming, g=global\n",
    "tpi   = ds_hist.TREFHTMX.sel(method='nearest').sel(time=slice(pi_year0,pi_year1))\n",
    "teoc  = ds_ssp.TREFHTMX.sel(method='nearest').sel(time=slice(ic_year0,ic_year1))\n",
    "#\n",
    "tdpi  = to_daily(tpi)\n",
    "tdeoc = to_daily(teoc)"
   ]
  },
  {
   "cell_type": "code",
   "execution_count": null,
   "id": "0df6d811",
   "metadata": {},
   "outputs": [],
   "source": [
    "# Total range of numbers\n",
    "total_range = list(range(1, 100))\n",
    "\n",
    "# Generate the first list of N unique random numbers\n",
    "N = 1\n",
    "random.seed(42) \n",
    "model_list = random.sample(total_range, N)\n",
    "\n",
    "# Remove these numbers from the total range to avoid repetition\n",
    "remaining_range = [num for num in total_range if num not in model_list]\n",
    "\n",
    "# Generate the second list of 10 unique random numbers from the remaining numbers\n",
    "obs_list = random.sample(remaining_range, N)\n",
    "\n",
    "model_list = model_list + [99,0]\n",
    "obs_list   = obs_list + [0,1]\n",
    "\n",
    "# Pair the numbers together\n",
    "paired_numbers = list(zip(model_list, obs_list))\n",
    "#\n",
    "\n",
    "# Print the pairs\n",
    "print(\"List of pairs:\")\n",
    "for pair in paired_numbers:\n",
    "    print(pair)"
   ]
  }
 ],
 "metadata": {
  "kernelspec": {
   "display_name": "pyenv",
   "language": "python",
   "name": "pyenv"
  },
  "language_info": {
   "codemirror_mode": {
    "name": "ipython",
    "version": 3
   },
   "file_extension": ".py",
   "mimetype": "text/x-python",
   "name": "python",
   "nbconvert_exporter": "python",
   "pygments_lexer": "ipython3",
   "version": "3.9.17"
  }
 },
 "nbformat": 4,
 "nbformat_minor": 5
}
